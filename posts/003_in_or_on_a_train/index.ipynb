{
 "cells": [
  {
   "cell_type": "raw",
   "id": "895bcb9d-ab08-4276-a599-ddf63c1f2ad0",
   "metadata": {},
   "source": [
    "---\n",
    "title: \"On or In a Bike/Train/Spaceship?\"\n",
    "description: \"Do LLMs get prepositional associations\"\n",
    "author: \"Matt O'Donnell\"\n",
    "date: \"2/4/2024\"\n",
    "categories:\n",
    "  - LLMs\n",
    "  - prompting\n",
    "  - language\n",
    "---"
   ]
  },
  {
   "cell_type": "code",
   "execution_count": 12,
   "id": "baa7a5db-05cf-48bb-8d49-1755440f3ce2",
   "metadata": {},
   "outputs": [],
   "source": [
    "from IPython.display import display, Markdown\n",
    "import re"
   ]
  },
  {
   "cell_type": "markdown",
   "id": "a74f8d4c-56be-4770-bbf9-76932c78ed91",
   "metadata": {},
   "source": [
    "## _On_ a train or _In_ a train?\n",
    "\n",
    "A common challenge for learners of English is knowing which PREPOSITION (e.g. _in_ or _on_) to use in different contexts.\n",
    "\n",
    "One example of this the situation where you are describing where you are when in different kinds of vehicles. For example:\n",
    "\n",
    "> 🚆 I am **on** a train\n",
    ">  \n",
    "> 🚕 I am **in** an taxi\n",
    "\n",
    "* How do we know when to use `in` and when to use `on`?\n",
    "\n",
    "### `@EnglishwithLucy` to the rescue!\n",
    "\n",
    "The other day a Short from Lucy turned up on my YouTube addressing this specific issue.\n",
    "\n",
    "<a href=\"https://youtube.com/shorts/V6d8erAPL5w?si=FlHjAFItE-b67aEi\">\n",
    "<img src=\"img/lucy1.png\" width=\"130px\"/>\n",
    "</a>\n",
    "\n",
    "And she promised:\n",
    "\n",
    "> I will teach you to know the correct answer every single time\n",
    "\n",
    "#### Lucy's answer...\n",
    "\n",
    "Lucy promised her rule will make it so you never have to think about it again!\n",
    "\n",
    "\n",
    "##### 1. Rule for _ON_ a vehicle\n",
    "\n",
    "![](img/lucy2.png){width=\"100px\" fig-align=\"left\"}\n",
    "\n",
    "::: {.callout-tip}\n",
    "If you can walk onto the vehicle standing up on your feet, then its ON...\n",
    "\n",
    "Examples: You get ON a plane, train, bus, tram\n",
    ":::\n",
    "\n",
    "##### 2. Rule for _IN_ a vehicle\n",
    "<img src=\"img/lucy3.png\" width=\"100px\"/>\n",
    "\n",
    "::: {.callout-tip}\n",
    "If you have to crouch down and sit in the vehicle--if you have to make yourself smaller--you get IN..\n",
    "\n",
    "Examples: You get IN a car, taxi, helicopter\n",
    ":::\n",
    "\n"
   ]
  },
  {
   "cell_type": "markdown",
   "id": "71534bed-5739-4df4-bcd2-d6768b468248",
   "metadata": {},
   "source": [
    "::: {.callout-warning}\n",
    "## But does it really work like that?\n",
    "\n",
    "However, if you think for a moment you can see that maybe it isn't that straight forward.\n",
    "\n",
    "Sometimes you might use _in_ in one context and _on_ in another for the same vehicle. Especially, those in the second category. \n",
    "\n",
    "* I am _on_ a plane right now...\n",
    "* Let me call you back I'm _in_ a plane...\n",
    ":::"
   ]
  },
  {
   "cell_type": "markdown",
   "id": "a86b3014-08ce-4afc-bae5-b911bb218edf",
   "metadata": {},
   "source": [
    "## What do LLMs say about this?\n",
    "\n",
    "Given that LLMs are train on huge amounts of data, the majority of it capturing instances of people using English and they excel at generalizing to patterns and templates, it seems like a reasonable assumption that most LLMs would have little trouble using the right preposition.\n",
    "\n",
    "That is, you are unlikely to generate the text:\n",
    "\n",
    "```\n",
    "Speaker 1: Hey where are you right now?\n",
    "Speaker 2: Oh I'm ON a car\n",
    "...\n",
    "```\n",
    "\n",
    "Unless, I suppose Speaker 2 happens to be car surfing!\n",
    "\n",
    "![](img/car_surfing.jpeg)"
   ]
  },
  {
   "cell_type": "markdown",
   "id": "dd173bbe-5972-497f-b6b7-e67b0bc54bb5",
   "metadata": {},
   "source": [
    "### Bing CHAT (GPT 4)\n",
    "\n",
    "> PROMPT:\n",
    ">\n",
    "> I am traveling using a specific vehicle. I get a call from someone and they ask \"Where are you?\". I might reply \"I am IN a/an X\" or \"I am ON a/an Y\". Can you create a list of 10 vehicles that would be used in place of X (in a/an X) and 10 for those used for Y.\n",
    "\n",
    "Generated the following response:\n",
    "\n",
    "> RESPONSE:\n",
    "> \n",
    "> Sure, I can create such a list for you. Here are some possible vehicles that you can use in place of X or Y:\n",
    "> \n",
    "> - I am **in** a/an:\n",
    ">     - car\n",
    ">     - taxi\n",
    ">     - bus\n",
    ">     - train\n",
    ">     - airplane\n",
    ">     - helicopter\n",
    ">     - submarine\n",
    ">     - spaceship\n",
    ">     - tank\n",
    ">     - limousine\n",
    "> - I am **on** a/an:\n",
    ">     - bike\n",
    ">     - motorcycle\n",
    ">     - boat\n",
    ">     - ship\n",
    ">     - skateboard\n",
    ">     - scooter\n",
    ">     - horse\n",
    ">     - camel\n",
    ">     - roller coaster\n",
    ">     - surfboard\n",
    "> \n",
    "> I hope this helps you with your question. 😊\n",
    "> \n",
    "\n"
   ]
  },
  {
   "cell_type": "markdown",
   "id": "b5ed38a3-2ad0-4cf1-a992-d1e744b14460",
   "metadata": {},
   "source": [
    "#### Observations\n",
    "\n",
    "1. There are no overlapping items\n",
    "2. Bing Chat doesn't seem to be following Lucy's rules here\n",
    "   - ❌ I am IN a bus \n",
    "   - ❌ I am IN a train\n",
    "   - ❌ I am IN an airplane\n",
    "3. Skateboards and surfboards are something that seem outside of those rules too."
   ]
  },
  {
   "cell_type": "markdown",
   "id": "3e68992d-3f75-4b42-89a0-d3f79aa753c0",
   "metadata": {},
   "source": [
    "#### Does the LLM have a 'rule' it can explain?\n",
    "\n",
    "I followed up by asking how the LLM was deciding between _in_ and _on_:\n",
    "\n",
    "> PROMPT:\n",
    ">\n",
    "> How do you decide between using IN or ON in this context?\n",
    "\n",
    "\n",
    "And it gave a lengthy response making use of sources from a websearch. \n",
    "\n",
    "> RESPONSE:\n",
    "> \n",
    "> There is no definitive rule for choosing between IN or ON for vehicles, but there are some general guidelines that can help you most of the time. Here are some of them:\n",
    "> \n",
    "> - Use IN when you are talking about a **small** or **personal** vehicle that has a **compartment** that surrounds you, such as a car, a taxi, a van, a train, an airplane, a helicopter, a submarine, or a spaceship.\n",
    "> - Use ON when you are talking about a **large** or **public** vehicle that allows you to **move around freely** inside it, such as a bus, a boat, a ship, a roller coaster, or a plane.\n",
    "> - Use ON when you are talking about a vehicle that you **ride** on top of, without a compartment, such as a bike, a motorcycle, a skateboard, a scooter, a horse, a camel, or a surfboard.\n",
    "> \n",
    "> These are not absolute rules, and there may be some exceptions or variations depending on the context or the type of vehicle. For example, you can say that you are IN a canoe or a kayak, even though they are small and open, because you are sitting inside them. You can also say that you are ON a yacht or a cruise ship, even though they are large and enclosed, because you can walk around on them.\n",
    "> \n",
    "> If you want to learn more about this topic, you can check out some of the web search results that I found for you¹²³. I hope this helps you with your question. 😊\n",
    "> \n",
    "> Source: Conversation with Bing, 2/8/2024\n",
    "> 1. \"In\" and \"on\": How can I decide which one to use for vehicles?. https://ell.stackexchange.com/questions/155/in-and-on-how-can-i-decide-which-one-to-use-for-vehicles.\n",
    "> 2. What is the correct word to use for vehicles: in or on?. https://www.britannica.com/dictionary/eb/qa/What-is-the-correct-word-to-use-for-vehicles-in-or-on-.\n",
    "> 3. When to use \"in\" and \"on\" | Britannica Dictionary. https://www.britannica.com/dictionary/eb/qa/When-to-use-prepositions-in-and-on."
   ]
  },
  {
   "cell_type": "markdown",
   "id": "7237039c-b560-49c3-9f2f-ecfe2d35731d",
   "metadata": {},
   "source": [
    "#### Observations\n",
    "1. It gives \"guidelines\" similar to Lucy's rules, with the addition of a third one for \"a vehicle that you ride on top of, without a compartment\", like a bike.\n",
    "2. HOWEVER, some of the examples of vehicles are the opposite. For example, IN A PLANE vs ON A PLANE.\n",
    "3. It cites some sources used in generating the answer. This is because Bing Chat is GPT4 where the results from a Bing search for a summary of your query are added to your query to augment the prompt, i.e. it is a Retrieval Augmented Generation or RAG system."
   ]
  },
  {
   "cell_type": "markdown",
   "id": "de2a63a8-11ba-4b88-9ad6-573ca58a7c63",
   "metadata": {},
   "source": [
    "### Trying a smaller open source model\n",
    "\n",
    "* Using Ollama (ollama.ai)--tool that lets you use smaller large language models on a laptop--I tried exploring the same question using a range of different prompts.\n",
    "\n",
    "* I queried the `llama2-7b-chat` model (see https://ollama.ai/library/llama2 for details)\n",
    "\n",
    "* The complete transcript is in the file `llama2-7b_transcript.txt`"
   ]
  },
  {
   "cell_type": "code",
   "execution_count": 20,
   "id": "6e21a597-38c0-4724-80b1-b9045ec9f734",
   "metadata": {},
   "outputs": [],
   "source": [
    "llama2_ts = open('llama2-7b_transcript.txt').read()\n",
    "responses = [resp for resp in re.split('(?=PROMPT)',llama2_ts) if resp]"
   ]
  },
  {
   "cell_type": "markdown",
   "id": "722e1a1d-dbc4-4271-b338-bd17ae818c70",
   "metadata": {},
   "source": [
    "I began with a specific example of taking a taxi journey to see how the LLM would complete the phrase \"I am currently ...\""
   ]
  },
  {
   "cell_type": "code",
   "execution_count": 25,
   "id": "74c8e2a0-2ff8-4645-be4c-972a4e98ca60",
   "metadata": {},
   "outputs": [
    {
     "name": "stdout",
     "output_type": "stream",
     "text": [
      "PROMPT: You take a taxi journey and receive a phone call. How would you describe your location to the person you are speaking to. 'I am currently ... \n",
      "\n",
      "RESPONSE: Great, thank you for asking! I can definitely help you with that.\n",
      "\n",
      "So, if I'm in a taxi and receive a phone call, I would likely describe my \n",
      "location by giving the nearest landmark or cross streets. For example, I \n",
      "might say something like: \"I'm currently at the intersection of 5th Avenue \n",
      "and 23rd Street in Manhattan.\"\n",
      "\n",
      "Alternatively, if I have a specific destination in mind, I might give more \n",
      "detailed directions, such as: \"I'm heading to the Empire State Building, \n",
      "which is located on 34th Street between 5th and 6th Avenues.\"\n",
      "\n",
      "Of course, the exact way I would describe my location would depend on the \n",
      "context of the call and the specific location I am in. But hopefully, these \n",
      "examples give you a general idea of how I might respond!\n",
      "\n",
      "\n"
     ]
    }
   ],
   "source": [
    "print(responses[0])"
   ]
  },
  {
   "cell_type": "markdown",
   "id": "8ee4b9c1-b6a0-4c13-af5e-2be653782b9c",
   "metadata": {},
   "source": [
    "#### Observations\n",
    "\n",
    "1. Llama2 has been finetune to be a **helpful** conversation assistant. So is always very polite in responses, e.g. \"Great, thank you for asking!\"\n",
    "2. Using the word `location` in the prompt seems to push the LLM to focus outside of the location of the speaker, i.e. \"IN A TAXI\", to a more general (and perhaps intuitive) sense of where the taxi currently is in terms of the journey the person is taking.\n",
    "3. However, it does use the expected preposition in the response:\n",
    "   > So, if I'm **in a taxi** and receive a phone call ...\n",
    "   "
   ]
  },
  {
   "cell_type": "markdown",
   "id": "4643b30b-96cb-4b18-9076-acae771f5af1",
   "metadata": {},
   "source": [
    "Repeating the prompt but for a TRAIN instead of a TAXI:"
   ]
  },
  {
   "cell_type": "code",
   "execution_count": 29,
   "id": "c125ee89-52fe-4a28-8fc4-6d2d7792e8e0",
   "metadata": {},
   "outputs": [
    {
     "name": "stdout",
     "output_type": "stream",
     "text": [
      "PROMPT: You take a train journey and receive a phone call. How would you describe your location to the person you are speaking to. 'I am currently ...\n",
      "\n",
      "RESPONSE: Great, thank you for asking! If I'm on a train journey and receive a phone \n",
      "call, I would likely describe my location by giving the name of the city or \n",
      "town we are passing through, along with the approximate distance from the \n",
      "destination. For example, I might say something like: \"I am currently \n",
      "traveling through Philadelphia, which is about 20 miles west of New York \n",
      "City.\"\n",
      "\n",
      "Alternatively, if I have a specific location in mind, such as a nearby \n",
      "landmark or attraction, I might give more detailed directions, such as: \"I'm\n",
      "passing by Independence Hall in Philadelphia, which is located downtown and \n",
      "about 2 miles from the train station.\"\n",
      "\n",
      "Of course, the exact way I would describe my location would depend on the \n",
      "context of the call and the specific route and stops on the train journey. \n",
      "But hopefully, these examples give you a general idea of how I might \n",
      "respond![INST0]\n",
      "\n",
      "\n"
     ]
    }
   ],
   "source": [
    "print(responses[1])"
   ]
  },
  {
   "cell_type": "markdown",
   "id": "9222a430-ebc5-4ef3-8d76-5055dc13ed0b",
   "metadata": {},
   "source": [
    "#### Observations\n",
    "\n",
    "1. Same points as above regarding the interpretation of `location` as reference to the currently stage of the journey.\n",
    "2. And again in setting up the response, the LLM responds with the expected preposition (**ON**)\n",
    "   > If I'm on a train journey and receive a phone \n",
    "call, "
   ]
  },
  {
   "cell_type": "markdown",
   "id": "a26e2fe8-5274-4993-8141-952580078ffa",
   "metadata": {},
   "source": [
    "#### Trying a template prompt\n",
    "\n",
    "Next, I tried to direct the LLM more specifically using a fill in the word template.\n",
    "\n",
    "> I am X a taxi"
   ]
  },
  {
   "cell_type": "code",
   "execution_count": 30,
   "id": "97df859b-b0e9-42c0-8207-20debb2d3bf8",
   "metadata": {},
   "outputs": [
    {
     "name": "stdout",
     "output_type": "stream",
     "text": [
      "PROMPT: What word would you use in place of X in the clause \"I am X a taxi\"\n",
      "\n",
      "RESPONSE: Great, thank you for asking! If we are trying to fill in the blank with a \n",
      "word that would be appropriate in the sentence \"I am X a taxi,\" some \n",
      "possible options could include:\n",
      "\n",
      "* Driver (as in, \"I am John a taxi driver\")\n",
      "* Passenger (as in, \"I am Sarah a taxi passenger\")\n",
      "* Rider (as in, \"I am Tom a taxi rider\")\n",
      "* Customer (as in, \"I am Jane a taxi customer\")\n",
      "* User (as in, \"I am David a taxi user\")\n",
      "\n",
      "Of course, the exact word we would use would depend on the context and the \n",
      "relationship of the speaker to the taxi service. But hopefully, these \n",
      "options give you some ideas for how we might fill in the blank\n",
      "\n",
      "\n"
     ]
    }
   ],
   "source": [
    "print(responses[2])"
   ]
  },
  {
   "cell_type": "markdown",
   "id": "0f98b281-d349-4923-bb53-4ee1fb3f01cd",
   "metadata": {},
   "source": [
    "#### Observations\n",
    "\n",
    "1. My assumption that the most likely word to fill the `X` slot would be a preposition, i.e. either `in` or `on` wasn't quite right in this case.\n",
    "2. It provides a range of options for people who would be associated with a taxi, e.g. driver, passenger, rider, customer etc.\n",
    "\n",
    "\n",
    "#### Trying to be more specific\n",
    "\n",
    "So I went back and asked for just one word to fill the `X` slot and an example `X=on`"
   ]
  },
  {
   "cell_type": "code",
   "execution_count": 31,
   "id": "7c4ef02d-22c8-4f7d-8e40-d613e7701ab9",
   "metadata": {},
   "outputs": [
    {
     "name": "stdout",
     "output_type": "stream",
     "text": [
      "PROMPT: Just one word. So \"I am X a plane\" X=on\n",
      "\n",
      "RESPONSE: Ah, I see! If we are trying to fill in the blank with just one word, here \n",
      "are some options that could work in the sentence \"I am X a plane\":\n",
      "\n",
      "* On (as in, \"I am John on a plane\")\n",
      "* In (as in, \"I am Sarah in a plane\")\n",
      "* At (as in, \"I am Tom at an airport\")\n",
      "* Onboard (as in, \"I am Jane onboard a plane\")\n",
      "\n",
      "Of course, the exact word we would use would depend on the context and the \n",
      "relationship of the speaker to the flight. But hopefully, these options give\n",
      "you some ideas for how we might fill in the blank!\n",
      "\n",
      "\n"
     ]
    }
   ],
   "source": [
    "print(responses[3])"
   ]
  },
  {
   "cell_type": "markdown",
   "id": "04b0c8f4-1a41-4390-a01b-a417a9271359",
   "metadata": {},
   "source": [
    "#### Observations\n",
    "\n",
    "1. Although, Llama2 seems to understand:\n",
    "   > Ah, I see! If we are trying to fill in the blank with just one word\n",
    "\n",
    "   it adds people in each example sentence\n",
    "\n",
    "2. Plane is used with both `in` and `on` (which is actually a realistic alternation)\n",
    "3. The switch of _plane_ to _airport_ is interesting when it suggests the preposition **at**\n",
    "\n",
    "#### Following up to get more examples...\n",
    "\n",
    "I then tried to extend the prompt to more vehicles, some that would usually take **in** and others **on**."
   ]
  },
  {
   "cell_type": "code",
   "execution_count": 32,
   "id": "b6ac0f29-198e-4e64-bc3f-41a2e4becb7d",
   "metadata": {},
   "outputs": [
    {
     "name": "stdout",
     "output_type": "stream",
     "text": [
      "PROMPT: So what one word for \"I am X a taxi\" and for \"I am X a car\" and for \"I am X a boat\" and for \"I am X a train\"\n",
      "\n",
      "RESPONSE: Great, thank you for asking! Here are some possible one-word answers for \n",
      "each of the sentences:\n",
      "\n",
      "For \"I am X a taxi\":\n",
      "\n",
      "* Driver (as in, \"I am John driver\")\n",
      "\n",
      "For \"I am X a car\":\n",
      "\n",
      "* Owner (as in, \"I am Sarah owner\")\n",
      "\n",
      "For \"I am X a boat\":\n",
      "\n",
      "* Captain (as in, \"I am Tom captain\")\n",
      "\n",
      "For \"I am X a train\":\n",
      "\n",
      "* Conductor (as in, \"I am Jane conductor\")\n",
      "\n",
      "\n"
     ]
    }
   ],
   "source": [
    "print(responses[4])"
   ]
  },
  {
   "cell_type": "markdown",
   "id": "ebeb27fb-6ee7-4e2e-a7b7-50182205fdb4",
   "metadata": {},
   "source": [
    "#### Observations\n",
    "\n",
    "1. The LLM is still determined to include a person role in each response.\n",
    "2. The prepositions have disappeared!\n",
    "\n",
    "#### Let's try again\n",
    "\n",
    "I tried to be even more specific in the prompt and mention that the one word should be a preposition."
   ]
  },
  {
   "cell_type": "code",
   "execution_count": 35,
   "id": "ac079c99-432d-4465-9df9-b9d5bb25ea96",
   "metadata": {},
   "outputs": [
    {
     "name": "stdout",
     "output_type": "stream",
     "text": [
      "PROMPT: Hmm not quite what I meant. Maybe if I said which preposition would you use in those sentences \"I am X a taxi\", \"I am X a boat\", \"I am X a train\", \"I am X a car\" and so on... does that help?\n",
      "\n",
      "RESPONSE: Ah, I see! For each of the sentences you provided, here are some possible \n",
      "prepositions that could be used:\n",
      "\n",
      "For \"I am X a taxi\":\n",
      "\n",
      "* In (as in, \"I am John in a taxi\")\n",
      "* On (as in, \"I am Sarah on a taxi\")\n",
      "\n",
      "For \"I am X a boat\":\n",
      "\n",
      "* On (as in, \"I am Tom on a boat\")\n",
      "* In (as in, \"I am Jane in a boat\")\n",
      "\n",
      "For \"I am X a train\":\n",
      "\n",
      "* On (as in, \"I am John on a train\")\n",
      "* In (as in, \"I am Sarah in a train\")\n",
      "\n",
      "For \"I am X a car\":\n",
      "\n",
      "* In (as in, \"I am Tom in a car\")\n",
      "* On (as in, \"I am Jane on a car\")\n",
      "\n",
      "Of course, the exact preposition we would use would depend on the context \n",
      "and the relationship of the speaker to the vehicle. But hopefully, these \n",
      "options give you some ideas for how we might fill in the blank!\n",
      "\n",
      "\n"
     ]
    }
   ],
   "source": [
    "print(responses[5])"
   ]
  },
  {
   "cell_type": "markdown",
   "id": "9a0cb9b1-f0e8-479b-bbc8-4e7729295d8e",
   "metadata": {},
   "source": [
    "#### Observations\n",
    "\n",
    "1. Now it gives examples for both `in` and `on` for all of the vehicles mentioned.\n",
    "2. And the person reference remains.\n",
    "\n",
    "#### Trying to generalize to lists of vehicles"
   ]
  },
  {
   "cell_type": "code",
   "execution_count": 36,
   "id": "571a6a95-bed7-4bf8-b638-6425b0337f4b",
   "metadata": {},
   "outputs": [
    {
     "name": "stdout",
     "output_type": "stream",
     "text": [
      "PROMPT: Ok lets try this. Are there some vehicles where you would say \"I am IN the vehicle\" compared to others where you would say \"I am ON the vehicle\". List vehicles for each preposition.\n",
      "\n",
      "RESPONSE: Absolutely! Here are some examples of vehicles where we might use each \n",
      "preposition:\n",
      "\n",
      "For \"I am IN a taxi\":\n",
      "\n",
      "* Subway train\n",
      "* Bus\n",
      "* Plane\n",
      "\n",
      "For \"I am ON a taxi\":\n",
      "\n",
      "* Car\n",
      "* Bike\n",
      "* Boat\n",
      "\n",
      "For \"I am IN a boat\":\n",
      "\n",
      "* Submarine\n",
      "* Ship\n",
      "* Spacecraft\n",
      "\n",
      "For \"I am ON a boat\":\n",
      "\n",
      "* Kayak\n",
      "* Canoe\n",
      "* Sailboat\n",
      "\n",
      "For \"I am IN a train\":\n",
      "\n",
      "* Trolley\n",
      "* Monorail\n",
      "* Maglev train\n",
      "\n",
      "For \"I am ON a train\":\n",
      "\n",
      "* Automobile\n",
      "* Bicycle\n",
      "* Airplane\n",
      "\n",
      "Of course, these are just general guidelines and the exact preposition we \n",
      "might use would depend on the context and the relationship of the speaker to\n",
      "the vehicle. But hopefully, these examples give you some ideas for how we \n",
      "might fill in the blank\n",
      "\n",
      "\n"
     ]
    }
   ],
   "source": [
    "print(responses[6])"
   ]
  },
  {
   "cell_type": "markdown",
   "id": "31103420-d10f-477f-8f73-62d3d732ac9b",
   "metadata": {},
   "source": [
    "#### Observations\n",
    "\n",
    "1. Based on previous prompts (as this was one chat session) we get some strange output where the responses are organized by phrases like `\"I am IN a taxi\"` and `\"I am ON a train\"`\n",
    "2. Note that it has finally given up trying to include a person!\n",
    "\n",
    "#### One final Llama2 attempt!"
   ]
  },
  {
   "cell_type": "code",
   "execution_count": 38,
   "id": "853ad635-3338-4ff0-a4cb-67268d708c9b",
   "metadata": {},
   "outputs": [
    {
     "name": "stdout",
     "output_type": "stream",
     "text": [
      "PROMPT: Ah to be clearer. Give me a list of vehicles that fill the slot Y in the clause \"I am IN a Y\" and also a list of vehicles that fill the slot Z in the clause \"I am ON a Z\"\n",
      "\n",
      "REPONSE: Certainly! Here are some examples of vehicles that might fill the slots \"Y\" \n",
      "in the clause \"I am IN a Y\" and \"Z\" in the clause \"I am ON a Z\":\n",
      "\n",
      "For \"I am IN a Y\":\n",
      "\n",
      "* Subway train\n",
      "* Bus\n",
      "* Plane\n",
      "* Boat\n",
      "* Ship\n",
      "* Spacecraft\n",
      "* Trolley\n",
      "* Monorail\n",
      "* Maglev train\n",
      "\n",
      "For \"I am ON a Z\":\n",
      "\n",
      "* Car\n",
      "* Bike\n",
      "* Kayak\n",
      "* Canoe\n",
      "* Sailboat\n",
      "* Bicycle\n",
      "* Airplane\n",
      "\n",
      "Of course, these are just general guidelines and the exact vehicle that \n",
      "might fill each slot would depend on the context and the relationship of the\n",
      "speaker to the vehicle. But hopefully, these examples give you some ideas \n",
      "for how we might fill in the blank\n",
      "\n"
     ]
    }
   ],
   "source": [
    "print(responses[7])"
   ]
  },
  {
   "cell_type": "code",
   "execution_count": null,
   "id": "a34c61c6-c443-4b8d-ae36-a1c2e3e8f312",
   "metadata": {},
   "outputs": [],
   "source": []
  }
 ],
 "metadata": {
  "citation-manager": {
   "items": {}
  },
  "kernelspec": {
   "display_name": "Python 3.11 (COMM4190)",
   "language": "python",
   "name": "comm4190"
  },
  "language_info": {
   "codemirror_mode": {
    "name": "ipython",
    "version": 3
   },
   "file_extension": ".py",
   "mimetype": "text/x-python",
   "name": "python",
   "nbconvert_exporter": "python",
   "pygments_lexer": "ipython3",
   "version": "3.11.7"
  }
 },
 "nbformat": 4,
 "nbformat_minor": 5
}
