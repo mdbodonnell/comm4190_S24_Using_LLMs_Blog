{
 "cells": [
  {
   "cell_type": "raw",
   "id": "2352c526-35a3-4135-bbd8-c9717f30e5ac",
   "metadata": {},
   "source": [
    "---\n",
    "title: \"My first post\"\n",
    "description: \"Testing out the blogging system\"\n",
    "author: \"Matt\"\n",
    "date: \"2/6/2024\"\n",
    "categories:\n",
    "  - LLMs\n",
    "  - test\n",
    "  - dogs\n",
    "---"
   ]
  },
  {
   "cell_type": "markdown",
   "id": "7b48799a-e1f2-4834-94fb-e181000bfb70",
   "metadata": {},
   "source": [
    "## This is a blog post\n",
    "\n",
    "![](puppy.png)"
   ]
  },
  {
   "cell_type": "code",
   "execution_count": 1,
   "id": "6fa030a5-18f3-418d-aa1e-480ebb314241",
   "metadata": {},
   "outputs": [
    {
     "name": "stdout",
     "output_type": "stream",
     "text": [
      "Hello\n",
      "Hello\n",
      "Hello\n",
      "Hello\n",
      "Hello\n",
      "Hello\n",
      "Hello\n",
      "Hello\n",
      "Hello\n",
      "Hello\n"
     ]
    }
   ],
   "source": [
    "for idx in range(10):\n",
    "    print('Hello')"
   ]
  },
  {
   "cell_type": "code",
   "execution_count": null,
   "id": "e65e357e-01bb-451a-b426-3583cd29b46e",
   "metadata": {},
   "outputs": [],
   "source": []
  }
 ],
 "metadata": {
  "citation-manager": {
   "items": {}
  },
  "kernelspec": {
   "display_name": "Python 3.11 (COMM4190)",
   "language": "python",
   "name": "comm4190"
  },
  "language_info": {
   "codemirror_mode": {
    "name": "ipython",
    "version": 3
   },
   "file_extension": ".py",
   "mimetype": "text/x-python",
   "name": "python",
   "nbconvert_exporter": "python",
   "pygments_lexer": "ipython3",
   "version": "3.11.7"
  }
 },
 "nbformat": 4,
 "nbformat_minor": 5
}
