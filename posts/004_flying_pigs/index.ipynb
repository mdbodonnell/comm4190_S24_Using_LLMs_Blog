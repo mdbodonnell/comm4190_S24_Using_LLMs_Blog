{
 "cells": [
  {
   "cell_type": "raw",
   "id": "2352c526-35a3-4135-bbd8-c9717f30e5ac",
   "metadata": {},
   "source": [
    "---\n",
    "title: \"And pigs might fly...\"\n",
    "description: \"Do LLMs visualize idioms and metaphors?\"\n",
    "author: \"Matt O'Donnell\"\n",
    "date: \"02-08-24\"\n",
    "categories:\n",
    "  - LLMs\n",
    "  - visualization\n",
    "  - idioms\n",
    "  - metaphor\n",
    "---"
   ]
  },
  {
   "cell_type": "markdown",
   "id": "7b48799a-e1f2-4834-94fb-e181000bfb70",
   "metadata": {},
   "source": [
    "## And pigs might fly\n",
    "\n",
    "![](flying_pigs1.png)"
   ]
  },
  {
   "cell_type": "markdown",
   "id": "135c8733-c730-4deb-aee7-57176dbc21fd",
   "metadata": {},
   "source": [
    "![](flying_pigs2.png)"
   ]
  },
  {
   "cell_type": "markdown",
   "id": "417a2bac-976f-4dba-825b-8423d6b1be37",
   "metadata": {},
   "source": [
    "![](flying_pigs3.png)"
   ]
  },
  {
   "cell_type": "code",
   "execution_count": null,
   "id": "696849aa-6551-481e-8a98-5f962df04934",
   "metadata": {},
   "outputs": [],
   "source": []
  }
 ],
 "metadata": {
  "citation-manager": {
   "items": {}
  },
  "kernelspec": {
   "display_name": "Python 3.11 (COMM4190)",
   "language": "python",
   "name": "comm4190"
  },
  "language_info": {
   "codemirror_mode": {
    "name": "ipython",
    "version": 3
   },
   "file_extension": ".py",
   "mimetype": "text/x-python",
   "name": "python",
   "nbconvert_exporter": "python",
   "pygments_lexer": "ipython3",
   "version": "3.11.7"
  }
 },
 "nbformat": 4,
 "nbformat_minor": 5
}
